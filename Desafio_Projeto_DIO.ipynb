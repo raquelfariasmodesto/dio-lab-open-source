{
  "nbformat": 4,
  "nbformat_minor": 0,
  "metadata": {
    "colab": {
      "provenance": [],
      "authorship_tag": "ABX9TyO0Boo7qXxKUrB45Xu1r6zJ",
      "include_colab_link": true
    },
    "kernelspec": {
      "name": "python3",
      "display_name": "Python 3"
    },
    "language_info": {
      "name": "python"
    }
  },
  "cells": [
    {
      "cell_type": "markdown",
      "metadata": {
        "id": "view-in-github",
        "colab_type": "text"
      },
      "source": [
        "<a href=\"https://colab.research.google.com/github/raquelfariasmodesto/dio-lab-open-source/blob/main/Desafio_Projeto_DIO.ipynb\" target=\"_parent\"><img src=\"https://colab.research.google.com/assets/colab-badge.svg\" alt=\"Open In Colab\"/></a>"
      ]
    },
    {
      "cell_type": "markdown",
      "source": [
        "Desafio de Projeto: Dados onde contém"
      ],
      "metadata": {
        "id": "b6PlbHUPwkb8"
      }
    },
    {
      "cell_type": "code",
      "source": [
        "import pandas as pd\n",
        "\n",
        "df = pd.read_csv(\"/segurosaude.csv\")\n",
        "#idade = df['idade'].tolist()\n",
        "print(df)"
      ],
      "metadata": {
        "colab": {
          "base_uri": "https://localhost:8080/"
        },
        "id": "54XGYe7Nw0Yy",
        "outputId": "f7599602-2b7b-4a73-d251-91fe9c50af30"
      },
      "execution_count": 30,
      "outputs": [
        {
          "output_type": "stream",
          "name": "stdout",
          "text": [
            "      idade       sexo     imc  crianca fumante    regiao  valor_seguro_saude\n",
            "0        35  masculino  27.740        2     sim     norte         20984.09360\n",
            "1        63   feminino  31.800        0     nao   sudeste         13880.94900\n",
            "2        40  masculino  41.230        1     nao     norte          6610.10970\n",
            "3        20  masculino  33.000        1     nao   sudeste          1980.07000\n",
            "4        40  masculino  30.875        4     nao  nordeste          8162.71625\n",
            "...     ...        ...     ...      ...     ...       ...                 ...\n",
            "1333     19   feminino  20.600        0     nao   sudeste          1731.67700\n",
            "1334     18  masculino  53.130        0     nao       sul          1163.46270\n",
            "1335     35  masculino  39.710        4     nao     norte         19496.71917\n",
            "1336     39   feminino  26.315        2     nao  nordeste          7201.70085\n",
            "1337     31  masculino  31.065        3     nao  nordeste          5425.02335\n",
            "\n",
            "[1338 rows x 7 columns]\n"
          ]
        }
      ]
    },
    {
      "cell_type": "code",
      "source": [
        "import numpy as np\n",
        "\n",
        "df = pd.read_csv(\"/segurosaude.csv\")\n",
        "idade = df['idade'].tolist()\n",
        "media = np.mean(idade)\n",
        "print(\"Média das idades:  %.f\" % media)\n"
      ],
      "metadata": {
        "colab": {
          "base_uri": "https://localhost:8080/"
        },
        "id": "rgygoMES1POZ",
        "outputId": "fb649243-6da8-43e7-9d89-9941d6134e7b"
      },
      "execution_count": 80,
      "outputs": [
        {
          "output_type": "stream",
          "name": "stdout",
          "text": [
            "Média das idades:  39\n"
          ]
        }
      ]
    },
    {
      "cell_type": "code",
      "source": [
        "vlr_seguro = df['valor_seguro_saude']\n",
        "soma = np.sum(vlr_seguro)\n",
        "print(f\"Gasto Total da Operadora: {soma: 10.2f}\")"
      ],
      "metadata": {
        "colab": {
          "base_uri": "https://localhost:8080/"
        },
        "id": "Ncir2xptJuEX",
        "outputId": "0bb0048d-262f-4296-949e-18ba652e8cae"
      },
      "execution_count": 93,
      "outputs": [
        {
          "output_type": "stream",
          "name": "stdout",
          "text": [
            "Gasto Total da Operadora:  17755824.99\n"
          ]
        }
      ]
    }
  ]
}