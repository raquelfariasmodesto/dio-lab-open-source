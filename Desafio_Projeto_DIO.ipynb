{
  "nbformat": 4,
  "nbformat_minor": 0,
  "metadata": {
    "colab": {
      "provenance": [],
      "authorship_tag": "ABX9TyNMBhJq8PGoHKTyfi4m5qqs",
      "include_colab_link": true
    },
    "kernelspec": {
      "name": "python3",
      "display_name": "Python 3"
    },
    "language_info": {
      "name": "python"
    }
  },
  "cells": [
    {
      "cell_type": "markdown",
      "metadata": {
        "id": "view-in-github",
        "colab_type": "text"
      },
      "source": [
        "<a href=\"https://colab.research.google.com/github/raquelfariasmodesto/dio-lab-open-source/blob/main/Desafio_Projeto_DIO.ipynb\" target=\"_parent\"><img src=\"https://colab.research.google.com/assets/colab-badge.svg\" alt=\"Open In Colab\"/></a>"
      ]
    },
    {
      "cell_type": "markdown",
      "source": [
        "\n",
        "*   Desafio de Projeto: Este projeto tem como objetivo extrair dados de uma operadora de plano de saúde para análise dos gastos. Desta forma será possível aplicar plano de ação em diferentes regiões com base nos insights que será desenvolvido.\n"
      ],
      "metadata": {
        "id": "b6PlbHUPwkb8"
      }
    },
    {
      "cell_type": "code",
      "source": [
        "import pandas as pd\n",
        "\n",
        "df = pd.read_csv(\"/segurosaude.csv\")\n",
        "print(df)"
      ],
      "metadata": {
        "colab": {
          "base_uri": "https://localhost:8080/"
        },
        "id": "54XGYe7Nw0Yy",
        "outputId": "a8f8122c-9fe1-4495-c026-a052ec7268dc"
      },
      "execution_count": 172,
      "outputs": [
        {
          "output_type": "stream",
          "name": "stdout",
          "text": [
            "      idade       sexo     imc  crianca fumante    regiao  valor_seguro_saude\n",
            "0        35  masculino  27.740        2     sim     norte         20984.09360\n",
            "1        63   feminino  31.800        0     nao   sudeste         13880.94900\n",
            "2        40  masculino  41.230        1     nao     norte          6610.10970\n",
            "3        20  masculino  33.000        1     nao   sudeste          1980.07000\n",
            "4        40  masculino  30.875        4     nao  nordeste          8162.71625\n",
            "...     ...        ...     ...      ...     ...       ...                 ...\n",
            "1333     19   feminino  20.600        0     nao   sudeste          1731.67700\n",
            "1334     18  masculino  53.130        0     nao       sul          1163.46270\n",
            "1335     35  masculino  39.710        4     nao     norte         19496.71917\n",
            "1336     39   feminino  26.315        2     nao  nordeste          7201.70085\n",
            "1337     31  masculino  31.065        3     nao  nordeste          5425.02335\n",
            "\n",
            "[1338 rows x 7 columns]\n"
          ]
        }
      ]
    },
    {
      "cell_type": "code",
      "source": [
        "import numpy as np\n",
        "\n",
        "df = pd.read_csv(\"/segurosaude.csv\")\n",
        "idade = df['idade'].tolist()\n",
        "media = np.mean(idade)\n",
        "print(\"Média das idades:  %.f\" % media)\n"
      ],
      "metadata": {
        "colab": {
          "base_uri": "https://localhost:8080/"
        },
        "id": "rgygoMES1POZ",
        "outputId": "fb649243-6da8-43e7-9d89-9941d6134e7b"
      },
      "execution_count": null,
      "outputs": [
        {
          "output_type": "stream",
          "name": "stdout",
          "text": [
            "Média das idades:  39\n"
          ]
        }
      ]
    },
    {
      "cell_type": "code",
      "source": [
        "vlr_seguro = df['valor_seguro_saude']\n",
        "soma = np.sum(vlr_seguro)\n",
        "print(f\"Gasto Total da Operadora: {soma: 10.2f}\")"
      ],
      "metadata": {
        "colab": {
          "base_uri": "https://localhost:8080/"
        },
        "id": "Ncir2xptJuEX",
        "outputId": "0bb0048d-262f-4296-949e-18ba652e8cae"
      },
      "execution_count": null,
      "outputs": [
        {
          "output_type": "stream",
          "name": "stdout",
          "text": [
            "Gasto Total da Operadora:  17755824.99\n"
          ]
        }
      ]
    },
    {
      "cell_type": "code",
      "source": [
        "imc = df['imc']\n",
        "media_imc = np.mean(imc)\n",
        "print(f\"fA Média de IMC:{media_imc: 10.2f}\")"
      ],
      "metadata": {
        "colab": {
          "base_uri": "https://localhost:8080/"
        },
        "id": "manK_LCCl70v",
        "outputId": "91291753-1f9b-48b6-9c92-ecd9bd2957ad"
      },
      "execution_count": 99,
      "outputs": [
        {
          "output_type": "stream",
          "name": "stdout",
          "text": [
            "fA Média de IMC é:     30.66\n"
          ]
        }
      ]
    },
    {
      "cell_type": "code",
      "source": [
        "imc_f = df[df['sexo'] == 'feminino']['imc']\n",
        "imc_m = df[df['sexo'] == 'masculino']['imc']\n",
        "\n",
        "\n",
        "if imc_f.shape[0] > 0:\n",
        "  media_imc_f = np.mean(imc_f)\n",
        "  print (f\"Média de IMC do sexo feminino: {media_imc_f: 10.2f}\" )\n",
        "elif imc_m.shape[0] > 0:\n",
        "  media_imc_m = np.mean(imc_m)\n",
        "print (f\"Média de IMC do sexo masculino: {media_imc_m: 10.2f}\" )\n"
      ],
      "metadata": {
        "colab": {
          "base_uri": "https://localhost:8080/"
        },
        "id": "zmRF0_4Jm8NA",
        "outputId": "ec9f4664-868d-413e-acb0-ed8da5360fce"
      },
      "execution_count": 166,
      "outputs": [
        {
          "output_type": "stream",
          "name": "stdout",
          "text": [
            "Média de IMC do sexo feminino:      30.37\n",
            "Média de IMC do sexo masculino:      30.66\n"
          ]
        }
      ]
    },
    {
      "cell_type": "code",
      "source": [
        "imc_f = df[df['sexo'] == 'feminino']['imc']\n",
        "imc_m = df[df['sexo'] == 'masculino']['imc']\n",
        "\n",
        "conta_f = df['sexo'].value_counts()\n",
        "print (conta_f)\n"
      ],
      "metadata": {
        "colab": {
          "base_uri": "https://localhost:8080/"
        },
        "id": "r-AKgmo6ww05",
        "outputId": "bd0435b5-94d6-4dec-ae1b-7d48e662b9b7"
      },
      "execution_count": 175,
      "outputs": [
        {
          "output_type": "stream",
          "name": "stdout",
          "text": [
            "masculino    675\n",
            "feminino     660\n",
            "2              1\n",
            "Name: sexo, dtype: int64\n"
          ]
        }
      ]
    },
    {
      "cell_type": "code",
      "source": [
        "norte = df[df['regiao'] == 'norte']['valor_seguro_saude']\n",
        "nordeste = df[df['regiao'] == 'nordeste']['valor_seguro_saude']\n",
        "sul = df[df['regiao'] == 'sul']['valor_seguro_saude']\n",
        "sudeste = df[df['regiao'] == 'sudeste']['valor_seguro_saude']\n",
        "\n",
        "if norte.shape[0] > 0:\n",
        "  media_norte = np.mean(norte)\n",
        "  print (f\"Valodr do seguro na região Norte: {media_norte: 10.2f}\" )\n",
        "\n",
        "if norte.shape[0] > 0:\n",
        "  media_nordeste = np.mean(nordeste)\n",
        "  print (f\"Valodr do seguro na região Nordeste: {media_nordeste: 10.2f}\" )\n",
        "\n",
        "if norte.shape[0] > 0:\n",
        "  media_sul = np.mean(sul)\n",
        "  print (f\"Valodr do seguro na região Sul: {media_sul: 10.2f}\" )\n",
        "\n",
        "if norte.shape[0] > 0:\n",
        "  media_sudeste = np.mean(sudeste)\n",
        "  print (f\"Valodr do seguro na região Sudeste: {media_sudeste: 10.2f}\" )"
      ],
      "metadata": {
        "colab": {
          "base_uri": "https://localhost:8080/"
        },
        "id": "uI3-gtLm10Jq",
        "outputId": "b05e9e5d-4b21-4611-b04c-98219d8927ed"
      },
      "execution_count": 191,
      "outputs": [
        {
          "output_type": "stream",
          "name": "stdout",
          "text": [
            "Valodr do seguro na região Norte:   13406.38\n",
            "Valodr do seguro na região Nordeste:   12417.58\n",
            "Valodr do seguro na região Sul:   14760.28\n",
            "Valodr do seguro na região Sudeste:   12234.35\n"
          ]
        }
      ]
    }
  ]
}